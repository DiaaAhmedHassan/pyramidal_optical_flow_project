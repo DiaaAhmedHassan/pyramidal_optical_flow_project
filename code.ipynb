{
 "cells": [
  {
   "cell_type": "markdown",
   "id": "ab9b91d4",
   "metadata": {},
   "source": [
    "## Import needed libraries"
   ]
  },
  {
   "cell_type": "code",
   "execution_count": 2,
   "id": "a7d18990",
   "metadata": {},
   "outputs": [],
   "source": [
    "import cv2 as cv\n",
    "from cv2 import pyrDown, Sobel, warpAffine"
   ]
  },
  {
   "cell_type": "markdown",
   "id": "02eca22a",
   "metadata": {},
   "source": [
    "## Read the consecutive frames"
   ]
  },
  {
   "cell_type": "code",
   "execution_count": null,
   "id": "3c5706af",
   "metadata": {},
   "outputs": [],
   "source": [
    "I1 = cv.imread(\"\")\n",
    "I2 = cv.imread(\"\")"
   ]
  },
  {
   "cell_type": "markdown",
   "id": "53ed09fa",
   "metadata": {},
   "source": [
    "# Pyramid construction"
   ]
  },
  {
   "cell_type": "code",
   "execution_count": 4,
   "id": "f4f58a1a",
   "metadata": {},
   "outputs": [],
   "source": [
    "def constructImagePyramid(I1, I2):\n",
    "    raise NotImplementedError"
   ]
  },
  {
   "cell_type": "markdown",
   "id": "967e9bc3",
   "metadata": {},
   "source": [
    "# iterative Lucas-Kanade method"
   ]
  },
  {
   "cell_type": "code",
   "execution_count": null,
   "id": "123aa150",
   "metadata": {},
   "outputs": [],
   "source": [
    "def pyramidalLk(I1, I2, L, w, K):\n",
    "    raise NotImplementedError"
   ]
  },
  {
   "cell_type": "markdown",
   "id": "beee62f7",
   "metadata": {},
   "source": [
    "## Propagate flow estimates from coarse to fine levels"
   ]
  },
  {
   "cell_type": "code",
   "execution_count": null,
   "id": "388f8858",
   "metadata": {},
   "outputs": [],
   "source": [
    "def Propagate_from_coarse_to_fine():\n",
    "    raise NotImplementedError"
   ]
  },
  {
   "cell_type": "markdown",
   "id": "e66e877a",
   "metadata": {},
   "source": [
    "## Compute the optical flow"
   ]
  },
  {
   "cell_type": "code",
   "execution_count": null,
   "id": "84541268",
   "metadata": {},
   "outputs": [],
   "source": [
    "def compute_optical_flow():\n",
    "    raise NotImplementedError"
   ]
  }
 ],
 "metadata": {
  "kernelspec": {
   "display_name": "base",
   "language": "python",
   "name": "python3"
  },
  "language_info": {
   "codemirror_mode": {
    "name": "ipython",
    "version": 3
   },
   "file_extension": ".py",
   "mimetype": "text/x-python",
   "name": "python",
   "nbconvert_exporter": "python",
   "pygments_lexer": "ipython3",
   "version": "3.11.5"
  }
 },
 "nbformat": 4,
 "nbformat_minor": 5
}
